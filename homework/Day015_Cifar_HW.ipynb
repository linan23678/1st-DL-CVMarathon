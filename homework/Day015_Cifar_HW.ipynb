{
 "cells": [
  {
   "cell_type": "markdown",
   "metadata": {},
   "source": [
    "## 『本次練習內容』\n",
    "#### 運用這幾天所學觀念搭建一個CNN分類器"
   ]
  },
  {
   "cell_type": "markdown",
   "metadata": {},
   "source": [
    "## 『本次練習目的』\n",
    "  #### 熟悉CNN分類器搭建步驟與原理\n",
    "  #### 學員們可以嘗試不同搭法，如使用不同的Maxpooling層，用GlobalAveragePooling取代Flatten等等"
   ]
  },
  {
   "cell_type": "code",
   "execution_count": 1,
   "metadata": {},
   "outputs": [
    {
     "name": "stderr",
     "output_type": "stream",
     "text": [
      "Using TensorFlow backend.\n",
      "C:\\Users\\111\\Anaconda3\\envs\\tf_gpu\\lib\\site-packages\\tensorflow\\python\\framework\\dtypes.py:526: FutureWarning: Passing (type, 1) or '1type' as a synonym of type is deprecated; in a future version of numpy, it will be understood as (type, (1,)) / '(1,)type'.\n",
      "  _np_qint8 = np.dtype([(\"qint8\", np.int8, 1)])\n",
      "C:\\Users\\111\\Anaconda3\\envs\\tf_gpu\\lib\\site-packages\\tensorflow\\python\\framework\\dtypes.py:527: FutureWarning: Passing (type, 1) or '1type' as a synonym of type is deprecated; in a future version of numpy, it will be understood as (type, (1,)) / '(1,)type'.\n",
      "  _np_quint8 = np.dtype([(\"quint8\", np.uint8, 1)])\n",
      "C:\\Users\\111\\Anaconda3\\envs\\tf_gpu\\lib\\site-packages\\tensorflow\\python\\framework\\dtypes.py:528: FutureWarning: Passing (type, 1) or '1type' as a synonym of type is deprecated; in a future version of numpy, it will be understood as (type, (1,)) / '(1,)type'.\n",
      "  _np_qint16 = np.dtype([(\"qint16\", np.int16, 1)])\n",
      "C:\\Users\\111\\Anaconda3\\envs\\tf_gpu\\lib\\site-packages\\tensorflow\\python\\framework\\dtypes.py:529: FutureWarning: Passing (type, 1) or '1type' as a synonym of type is deprecated; in a future version of numpy, it will be understood as (type, (1,)) / '(1,)type'.\n",
      "  _np_quint16 = np.dtype([(\"quint16\", np.uint16, 1)])\n",
      "C:\\Users\\111\\Anaconda3\\envs\\tf_gpu\\lib\\site-packages\\tensorflow\\python\\framework\\dtypes.py:530: FutureWarning: Passing (type, 1) or '1type' as a synonym of type is deprecated; in a future version of numpy, it will be understood as (type, (1,)) / '(1,)type'.\n",
      "  _np_qint32 = np.dtype([(\"qint32\", np.int32, 1)])\n",
      "C:\\Users\\111\\Anaconda3\\envs\\tf_gpu\\lib\\site-packages\\tensorflow\\python\\framework\\dtypes.py:535: FutureWarning: Passing (type, 1) or '1type' as a synonym of type is deprecated; in a future version of numpy, it will be understood as (type, (1,)) / '(1,)type'.\n",
      "  np_resource = np.dtype([(\"resource\", np.ubyte, 1)])\n"
     ]
    }
   ],
   "source": [
    "from keras.models import Sequential\n",
    "from keras.layers import Convolution2D\n",
    "from keras.layers import MaxPooling2D\n",
    "from keras.layers import Flatten\n",
    "from keras.layers import Dense\n",
    "from keras.layers import Dropout\n",
    "from keras.layers import BatchNormalization\n",
    "from keras.datasets import cifar10\n",
    "import numpy as np\n",
    "import tensorflow as tf\n",
    "from sklearn.preprocessing import OneHotEncoder\n"
   ]
  },
  {
   "cell_type": "code",
   "execution_count": 2,
   "metadata": {},
   "outputs": [
    {
     "name": "stdout",
     "output_type": "stream",
     "text": [
      "(50000, 32, 32, 3)\n"
     ]
    }
   ],
   "source": [
    "(x_train, y_train), (x_test, y_test) = cifar10.load_data()\n",
    "\n",
    "print(x_train.shape) #(50000, 32, 32, 3)\n",
    "\n",
    "## Normalize Data\n",
    "def normalize(X_train,X_test):\n",
    "        mean = np.mean(X_train,axis=(0,1,2,3))\n",
    "        std = np.std(X_train, axis=(0, 1, 2, 3))\n",
    "        X_train = (X_train-mean)/(std+1e-7)\n",
    "        X_test = (X_test-mean)/(std+1e-7) \n",
    "        return X_train, X_test,mean,std\n",
    "    \n",
    "    \n",
    "## Normalize Training and Testset    \n",
    "x_train, x_test,mean_train,std_train = normalize(x_train, x_test) "
   ]
  },
  {
   "cell_type": "code",
   "execution_count": 3,
   "metadata": {},
   "outputs": [],
   "source": [
    "## OneHot Label 由(None, 1)-(None, 10)\n",
    "## ex. label=2,變成[0,0,1,0,0,0,0,0,0,0]\n",
    "one_hot=OneHotEncoder()\n",
    "y_train=one_hot.fit_transform(y_train).toarray()\n",
    "y_test=one_hot.transform(y_test).toarray()"
   ]
  },
  {
   "cell_type": "code",
   "execution_count": 4,
   "metadata": {},
   "outputs": [
    {
     "name": "stdout",
     "output_type": "stream",
     "text": [
      "WARNING:tensorflow:From C:\\Users\\111\\Anaconda3\\envs\\tf_gpu\\lib\\site-packages\\tensorflow\\python\\framework\\op_def_library.py:263: colocate_with (from tensorflow.python.framework.ops) is deprecated and will be removed in a future version.\n",
      "Instructions for updating:\n",
      "Colocations handled automatically by placer.\n",
      "WARNING:tensorflow:From C:\\Users\\111\\Anaconda3\\envs\\tf_gpu\\lib\\site-packages\\tensorflow\\python\\ops\\math_ops.py:3066: to_int32 (from tensorflow.python.ops.math_ops) is deprecated and will be removed in a future version.\n",
      "Instructions for updating:\n",
      "Use tf.cast instead.\n"
     ]
    },
    {
     "name": "stderr",
     "output_type": "stream",
     "text": [
      "C:\\Users\\111\\Anaconda3\\envs\\tf_gpu\\lib\\site-packages\\ipykernel_launcher.py:22: UserWarning: Update your `Dense` call to the Keras 2 API: `Dense(activation=\"softmax\", units=10)`\n"
     ]
    },
    {
     "name": "stdout",
     "output_type": "stream",
     "text": [
      "Epoch 1/100\n",
      "50000/50000 [==============================] - 8s 159us/step - loss: 1.3308 - acc: 0.5528\n",
      "Epoch 2/100\n",
      "50000/50000 [==============================] - 6s 114us/step - loss: 0.7814 - acc: 0.7294\n",
      "Epoch 3/100\n",
      "50000/50000 [==============================] - 6s 113us/step - loss: 0.5393 - acc: 0.8125\n",
      "Epoch 4/100\n",
      "50000/50000 [==============================] - 6s 116us/step - loss: 0.3595 - acc: 0.8753\n",
      "Epoch 5/100\n",
      "50000/50000 [==============================] - 6s 121us/step - loss: 0.2269 - acc: 0.9230\n",
      "Epoch 6/100\n",
      "50000/50000 [==============================] - 6s 121us/step - loss: 0.1597 - acc: 0.9456\n",
      "Epoch 7/100\n",
      "50000/50000 [==============================] - 6s 121us/step - loss: 0.1331 - acc: 0.9540\n",
      "Epoch 8/100\n",
      "50000/50000 [==============================] - 6s 122us/step - loss: 0.1197 - acc: 0.9573\n",
      "Epoch 9/100\n",
      "50000/50000 [==============================] - 6s 122us/step - loss: 0.1009 - acc: 0.9652\n",
      "Epoch 10/100\n",
      "50000/50000 [==============================] - 6s 122us/step - loss: 0.0878 - acc: 0.9698\n",
      "Epoch 11/100\n",
      "50000/50000 [==============================] - 6s 121us/step - loss: 0.0867 - acc: 0.9700\n",
      "Epoch 12/100\n",
      "50000/50000 [==============================] - 6s 121us/step - loss: 0.0798 - acc: 0.9725\n",
      "Epoch 13/100\n",
      "50000/50000 [==============================] - 6s 121us/step - loss: 0.0657 - acc: 0.9776\n",
      "Epoch 14/100\n",
      "50000/50000 [==============================] - 6s 120us/step - loss: 0.0562 - acc: 0.9806\n",
      "Epoch 15/100\n",
      "50000/50000 [==============================] - 6s 121us/step - loss: 0.0680 - acc: 0.9765: 1s - \n",
      "Epoch 16/100\n",
      "50000/50000 [==============================] - 6s 121us/step - loss: 0.0571 - acc: 0.9804\n",
      "Epoch 17/100\n",
      "50000/50000 [==============================] - 6s 120us/step - loss: 0.0533 - acc: 0.9821\n",
      "Epoch 18/100\n",
      "50000/50000 [==============================] - 6s 120us/step - loss: 0.0537 - acc: 0.9822\n",
      "Epoch 19/100\n",
      "50000/50000 [==============================] - 6s 120us/step - loss: 0.0571 - acc: 0.9806\n",
      "Epoch 20/100\n",
      "50000/50000 [==============================] - 6s 120us/step - loss: 0.0456 - acc: 0.9851\n",
      "Epoch 21/100\n",
      "50000/50000 [==============================] - 6s 121us/step - loss: 0.0399 - acc: 0.9873\n",
      "Epoch 22/100\n",
      "50000/50000 [==============================] - 6s 121us/step - loss: 0.0403 - acc: 0.9864 0s - loss: 0.0393 - ac\n",
      "Epoch 23/100\n",
      "50000/50000 [==============================] - 6s 121us/step - loss: 0.0438 - acc: 0.9856\n",
      "Epoch 24/100\n",
      "50000/50000 [==============================] - 6s 121us/step - loss: 0.0505 - acc: 0.9829\n",
      "Epoch 25/100\n",
      "50000/50000 [==============================] - 6s 121us/step - loss: 0.0418 - acc: 0.9870\n",
      "Epoch 26/100\n",
      "50000/50000 [==============================] - 6s 121us/step - loss: 0.0423 - acc: 0.9865\n",
      "Epoch 27/100\n",
      "50000/50000 [==============================] - 6s 121us/step - loss: 0.0308 - acc: 0.9898\n",
      "Epoch 28/100\n",
      "50000/50000 [==============================] - 6s 121us/step - loss: 0.0404 - acc: 0.9864\n",
      "Epoch 29/100\n",
      "50000/50000 [==============================] - 6s 120us/step - loss: 0.0415 - acc: 0.9862\n",
      "Epoch 30/100\n",
      "50000/50000 [==============================] - 6s 121us/step - loss: 0.0330 - acc: 0.9894\n",
      "Epoch 31/100\n",
      "50000/50000 [==============================] - 6s 121us/step - loss: 0.0229 - acc: 0.9928\n",
      "Epoch 32/100\n",
      "50000/50000 [==============================] - 6s 118us/step - loss: 0.0290 - acc: 0.9914\n",
      "Epoch 33/100\n",
      "50000/50000 [==============================] - 6s 120us/step - loss: 0.0291 - acc: 0.9898\n",
      "Epoch 34/100\n",
      "50000/50000 [==============================] - 6s 121us/step - loss: 0.0372 - acc: 0.9885\n",
      "Epoch 35/100\n",
      "50000/50000 [==============================] - 6s 121us/step - loss: 0.0409 - acc: 0.9870\n",
      "Epoch 36/100\n",
      "50000/50000 [==============================] - 6s 120us/step - loss: 0.0297 - acc: 0.9901\n",
      "Epoch 37/100\n",
      "50000/50000 [==============================] - 6s 121us/step - loss: 0.0237 - acc: 0.9924\n",
      "Epoch 38/100\n",
      "50000/50000 [==============================] - 6s 121us/step - loss: 0.0236 - acc: 0.9919\n",
      "Epoch 39/100\n",
      "50000/50000 [==============================] - 6s 121us/step - loss: 0.0249 - acc: 0.9917\n",
      "Epoch 40/100\n",
      "50000/50000 [==============================] - 6s 121us/step - loss: 0.0332 - acc: 0.9896\n",
      "Epoch 41/100\n",
      "50000/50000 [==============================] - 6s 121us/step - loss: 0.0329 - acc: 0.9894\n",
      "Epoch 42/100\n",
      "50000/50000 [==============================] - 6s 121us/step - loss: 0.0198 - acc: 0.9935\n",
      "Epoch 43/100\n",
      "50000/50000 [==============================] - 6s 121us/step - loss: 0.0195 - acc: 0.9933\n",
      "Epoch 44/100\n",
      "50000/50000 [==============================] - 6s 120us/step - loss: 0.0250 - acc: 0.9917\n",
      "Epoch 45/100\n",
      "50000/50000 [==============================] - 6s 121us/step - loss: 0.0253 - acc: 0.9922\n",
      "Epoch 46/100\n",
      "50000/50000 [==============================] - 6s 121us/step - loss: 0.0240 - acc: 0.9919\n",
      "Epoch 47/100\n",
      "50000/50000 [==============================] - 6s 121us/step - loss: 0.0249 - acc: 0.9922\n",
      "Epoch 48/100\n",
      "50000/50000 [==============================] - 6s 121us/step - loss: 0.0213 - acc: 0.9933\n",
      "Epoch 49/100\n",
      "50000/50000 [==============================] - 6s 121us/step - loss: 0.0207 - acc: 0.9935\n",
      "Epoch 50/100\n",
      "50000/50000 [==============================] - 6s 120us/step - loss: 0.0219 - acc: 0.9930\n",
      "Epoch 51/100\n",
      "50000/50000 [==============================] - 6s 120us/step - loss: 0.0303 - acc: 0.9910\n",
      "Epoch 52/100\n",
      "50000/50000 [==============================] - 6s 120us/step - loss: 0.0200 - acc: 0.9932\n",
      "Epoch 53/100\n",
      "50000/50000 [==============================] - 6s 120us/step - loss: 0.0121 - acc: 0.9964\n",
      "Epoch 54/100\n",
      "50000/50000 [==============================] - 6s 119us/step - loss: 0.0194 - acc: 0.9939 1\n",
      "Epoch 55/100\n",
      "50000/50000 [==============================] - 6s 120us/step - loss: 0.0225 - acc: 0.9936 0s - loss: 0.0201\n",
      "Epoch 56/100\n",
      "50000/50000 [==============================] - 6s 121us/step - loss: 0.0242 - acc: 0.9921\n",
      "Epoch 57/100\n",
      "50000/50000 [==============================] - 6s 122us/step - loss: 0.0229 - acc: 0.9931\n",
      "Epoch 58/100\n",
      "50000/50000 [==============================] - 6s 122us/step - loss: 0.0193 - acc: 0.9940\n",
      "Epoch 59/100\n",
      "50000/50000 [==============================] - 6s 122us/step - loss: 0.0199 - acc: 0.9939\n",
      "Epoch 60/100\n",
      "50000/50000 [==============================] - 6s 122us/step - loss: 0.0154 - acc: 0.9947\n",
      "Epoch 61/100\n",
      "50000/50000 [==============================] - 6s 122us/step - loss: 0.0212 - acc: 0.9935\n",
      "Epoch 62/100\n",
      "50000/50000 [==============================] - 6s 120us/step - loss: 0.0175 - acc: 0.9942\n",
      "Epoch 63/100\n",
      "50000/50000 [==============================] - 6s 121us/step - loss: 0.0159 - acc: 0.9952\n",
      "Epoch 64/100\n",
      "50000/50000 [==============================] - 6s 121us/step - loss: 0.0222 - acc: 0.9933\n",
      "Epoch 65/100\n",
      "50000/50000 [==============================] - 6s 121us/step - loss: 0.0208 - acc: 0.9932\n",
      "Epoch 66/100\n",
      "50000/50000 [==============================] - 6s 121us/step - loss: 0.0166 - acc: 0.9946\n",
      "Epoch 67/100\n",
      "50000/50000 [==============================] - 6s 121us/step - loss: 0.0112 - acc: 0.9964\n",
      "Epoch 68/100\n",
      "50000/50000 [==============================] - 6s 121us/step - loss: 0.0149 - acc: 0.9952\n",
      "Epoch 69/100\n",
      "50000/50000 [==============================] - 6s 122us/step - loss: 0.0142 - acc: 0.9952\n",
      "Epoch 70/100\n",
      "50000/50000 [==============================] - 6s 121us/step - loss: 0.0137 - acc: 0.9953\n",
      "Epoch 71/100\n",
      "50000/50000 [==============================] - 6s 122us/step - loss: 0.0159 - acc: 0.9946\n",
      "Epoch 72/100\n",
      "50000/50000 [==============================] - 6s 121us/step - loss: 0.0247 - acc: 0.9926\n",
      "Epoch 73/100\n",
      "50000/50000 [==============================] - 6s 121us/step - loss: 0.0119 - acc: 0.9960\n",
      "Epoch 74/100\n",
      "50000/50000 [==============================] - 6s 121us/step - loss: 0.0134 - acc: 0.9955\n",
      "Epoch 75/100\n",
      "50000/50000 [==============================] - 6s 121us/step - loss: 0.0141 - acc: 0.9955\n",
      "Epoch 76/100\n",
      "50000/50000 [==============================] - 6s 122us/step - loss: 0.0178 - acc: 0.9947\n",
      "Epoch 77/100\n",
      "50000/50000 [==============================] - 6s 121us/step - loss: 0.0127 - acc: 0.9958\n",
      "Epoch 78/100\n",
      "50000/50000 [==============================] - 6s 122us/step - loss: 0.0153 - acc: 0.9954\n",
      "Epoch 79/100\n",
      "50000/50000 [==============================] - 6s 121us/step - loss: 0.0158 - acc: 0.9949\n",
      "Epoch 80/100\n"
     ]
    },
    {
     "name": "stdout",
     "output_type": "stream",
     "text": [
      "50000/50000 [==============================] - 6s 120us/step - loss: 0.0155 - acc: 0.9951\n",
      "Epoch 81/100\n",
      "50000/50000 [==============================] - 6s 121us/step - loss: 0.0129 - acc: 0.9964 0s - loss: 0.0125 -\n",
      "Epoch 82/100\n",
      "50000/50000 [==============================] - 6s 120us/step - loss: 0.0135 - acc: 0.9956\n",
      "Epoch 83/100\n",
      "50000/50000 [==============================] - 6s 121us/step - loss: 0.0093 - acc: 0.9971\n",
      "Epoch 84/100\n",
      "50000/50000 [==============================] - 6s 120us/step - loss: 0.0118 - acc: 0.9964\n",
      "Epoch 85/100\n",
      "50000/50000 [==============================] - 6s 121us/step - loss: 0.0186 - acc: 0.9942\n",
      "Epoch 86/100\n",
      "50000/50000 [==============================] - 6s 121us/step - loss: 0.0178 - acc: 0.9946\n",
      "Epoch 87/100\n",
      "50000/50000 [==============================] - 6s 121us/step - loss: 0.0130 - acc: 0.9959\n",
      "Epoch 88/100\n",
      "50000/50000 [==============================] - 6s 121us/step - loss: 0.0077 - acc: 0.9975\n",
      "Epoch 89/100\n",
      "50000/50000 [==============================] - 6s 121us/step - loss: 0.0104 - acc: 0.9966\n",
      "Epoch 90/100\n",
      "50000/50000 [==============================] - 6s 121us/step - loss: 0.0116 - acc: 0.9961\n",
      "Epoch 91/100\n",
      "50000/50000 [==============================] - 6s 121us/step - loss: 0.0191 - acc: 0.9945\n",
      "Epoch 92/100\n",
      "50000/50000 [==============================] - 6s 122us/step - loss: 0.0128 - acc: 0.9960\n",
      "Epoch 93/100\n",
      "50000/50000 [==============================] - 6s 122us/step - loss: 0.0126 - acc: 0.9959\n",
      "Epoch 94/100\n",
      "50000/50000 [==============================] - 6s 121us/step - loss: 0.0132 - acc: 0.9962\n",
      "Epoch 95/100\n",
      "50000/50000 [==============================] - 6s 121us/step - loss: 0.0124 - acc: 0.9963\n",
      "Epoch 96/100\n",
      "50000/50000 [==============================] - 6s 120us/step - loss: 0.0116 - acc: 0.9967\n",
      "Epoch 97/100\n",
      "50000/50000 [==============================] - 6s 120us/step - loss: 0.0112 - acc: 0.9966\n",
      "Epoch 98/100\n",
      "50000/50000 [==============================] - 6s 120us/step - loss: 0.0081 - acc: 0.9974\n",
      "Epoch 99/100\n",
      "50000/50000 [==============================] - 6s 120us/step - loss: 0.0169 - acc: 0.9950\n",
      "Epoch 100/100\n",
      "50000/50000 [==============================] - 6s 121us/step - loss: 0.0143 - acc: 0.9955\n"
     ]
    },
    {
     "data": {
      "text/plain": [
       "<keras.callbacks.History at 0x17efa3c27b8>"
      ]
     },
     "execution_count": 4,
     "metadata": {},
     "output_type": "execute_result"
    }
   ],
   "source": [
    "\n",
    "classifier=Sequential()\n",
    "\n",
    "#卷積組合\n",
    "classifier.add(Convolution2D(32,kernel_size=(3,3),input_shape=(32,32,3),activation='relu'))\n",
    "#32,3,3,input_shape=(32,32,3),activation='relu''\n",
    "classifier.add(BatchNormalization())\n",
    "\n",
    "'''自己決定MaxPooling2D放在哪裡'''\n",
    "classifier.add(MaxPooling2D(pool_size=(2,2)))\n",
    "\n",
    "#卷積組合\n",
    "classifier.add(Convolution2D(32,kernel_size=(3,3),activation='relu'))\n",
    "classifier.add(BatchNormalization())\n",
    "\n",
    "#flatten\n",
    "classifier.add(Flatten())\n",
    "\n",
    "#FC\n",
    "classifier.add(Dense(128,activation='relu')) #output_dim=100,activation=relu\n",
    "\n",
    "#輸出\n",
    "classifier.add(Dense(output_dim=10,activation='softmax'))\n",
    "\n",
    "#超過兩個就要選categorical_crossentrophy\n",
    "classifier.compile(optimizer = 'adam', loss = 'categorical_crossentropy', metrics = ['accuracy'])\n",
    "classifier.fit(x_train,y_train,batch_size=100,epochs=100)"
   ]
  },
  {
   "cell_type": "markdown",
   "metadata": {},
   "source": [
    "## 預測新圖片，輸入影像前處理要與訓練時相同\n",
    "#### ((X-mean)/(std+1e-7) ):這裡的mean跟std是訓練集的\n",
    "## 維度如下方示範"
   ]
  },
  {
   "cell_type": "code",
   "execution_count": 5,
   "metadata": {},
   "outputs": [
    {
     "data": {
      "text/plain": [
       "array([[8.5015851e-04, 4.6703778e-12, 4.5182369e-06, 9.9727780e-01,\n",
       "        1.8215983e-03, 1.0354239e-07, 1.3318736e-07, 3.8208327e-05,\n",
       "        7.5172320e-06, 3.8928022e-10]], dtype=float32)"
      ]
     },
     "execution_count": 5,
     "metadata": {},
     "output_type": "execute_result"
    }
   ],
   "source": [
    "input_example=(np.zeros(shape=(1,32,32,3))-mean_train)/(std_train+1e-7) \n",
    "classifier.predict(input_example)"
   ]
  },
  {
   "cell_type": "code",
   "execution_count": 6,
   "metadata": {},
   "outputs": [
    {
     "name": "stdout",
     "output_type": "stream",
     "text": [
      "10000/10000 [==============================] - 1s 82us/step\n"
     ]
    },
    {
     "data": {
      "text/plain": [
       "[3.341591288757324, 0.6673]"
      ]
     },
     "execution_count": 6,
     "metadata": {},
     "output_type": "execute_result"
    }
   ],
   "source": [
    "classifier.evaluate(x_test,y_test)"
   ]
  },
  {
   "cell_type": "code",
   "execution_count": null,
   "metadata": {},
   "outputs": [],
   "source": []
  }
 ],
 "metadata": {
  "kernelspec": {
   "display_name": "Python (tf_GPU)",
   "language": "python",
   "name": "tf_gpu"
  },
  "language_info": {
   "codemirror_mode": {
    "name": "ipython",
    "version": 3
   },
   "file_extension": ".py",
   "mimetype": "text/x-python",
   "name": "python",
   "nbconvert_exporter": "python",
   "pygments_lexer": "ipython3",
   "version": "3.6.10"
  }
 },
 "nbformat": 4,
 "nbformat_minor": 2
}
